{
 "cells": [
  {
   "cell_type": "markdown",
   "metadata": {},
   "source": [
    "# Interactive scatterplot\n",
    "\n",
    "A basic interactive scatterplot made from JupyterDash + plotly.express\n",
    "Interactive plots are good for EDA of data with many variables."
   ]
  },
  {
   "cell_type": "code",
   "execution_count": 15,
   "metadata": {},
   "outputs": [],
   "source": [
    "from jupyter_dash import JupyterDash\n",
    "import dash\n",
    "from dash import dcc\n",
    "from dash import html, Input, Output\n",
    "import pandas as pd\n",
    "import plotly.express as px\n"
   ]
  },
  {
   "cell_type": "code",
   "execution_count": 16,
   "metadata": {},
   "outputs": [],
   "source": [
    "df = pd.read_csv('./energy_clean.csv')\n"
   ]
  },
  {
   "cell_type": "code",
   "execution_count": 17,
   "metadata": {},
   "outputs": [
    {
     "data": {
      "text/plain": [
       "Index(['DOF Gross Floor Area',\n",
       "       'Largest Property Use Type - Gross Floor Area (ft²)', 'score',\n",
       "       'Site EUI (kBtu/ft²)', 'Weather Normalized Site EUI (kBtu/ft²)',\n",
       "       'Weather Normalized Site Electricity Intensity (kWh/ft²)',\n",
       "       'Weather Normalized Site Natural Gas Intensity (therms/ft²)',\n",
       "       'Weather Normalized Source EUI (kBtu/ft²)', 'Natural Gas Use (kBtu)',\n",
       "       'Weather Normalized Site Natural Gas Use (therms)',\n",
       "       'Electricity Use - Grid Purchase (kBtu)',\n",
       "       'Weather Normalized Site Electricity (kWh)',\n",
       "       'Total GHG Emissions (Metric Tons CO2e)',\n",
       "       'Direct GHG Emissions (Metric Tons CO2e)',\n",
       "       'Indirect GHG Emissions (Metric Tons CO2e)',\n",
       "       'Property GFA - Self-Reported (ft²)',\n",
       "       'Water Use (All Water Sources) (kgal)',\n",
       "       'Water Intensity (All Water Sources) (gal/ft²)',\n",
       "       'Source EUI (kBtu/ft²)', 'Latitude', 'Longitude', 'Community Board',\n",
       "       'Council District', 'Census Tract'],\n",
       "      dtype='object')"
      ]
     },
     "execution_count": 17,
     "metadata": {},
     "output_type": "execute_result"
    }
   ],
   "source": [
    "vars = df.columns\n",
    "vars"
   ]
  },
  {
   "cell_type": "code",
   "execution_count": 18,
   "metadata": {},
   "outputs": [],
   "source": [
    "app = JupyterDash(__name__)\n",
    "\n",
    "server = app.server \n",
    "\n",
    "app.layout = html.Div([\n",
    "    html.Div([\n",
    "\n",
    "        html.Div([\n",
    "            # single-select Drop down widget\n",
    "            dcc.Dropdown(\n",
    "                id='xaxis-column', # to be used in callback\n",
    "                options= [{'label': i, 'value': i} for i in vars], # list of options\n",
    "                value='Site EUI (kBtu/ft²)' # default value\n",
    "            ),\n",
    "            # RadioItems is a component for rendering a set of radio (or option) buttons\n",
    "            dcc.RadioItems( \n",
    "                id='xaxis-type',\n",
    "                options=['Linear', 'Log'],\n",
    "                value='Linear',\n",
    "                inline = True\n",
    "            )\n",
    "        ], style={'width': '49%', 'display': 'inline-block'}),\n",
    "\n",
    "        html.Div([\n",
    "            dcc.Dropdown(\n",
    "                id='yaxis-column',\n",
    "                options=[{'label': i, 'value': i} for i in vars],\n",
    "                value='score'\n",
    "            ),\n",
    "            dcc.RadioItems(\n",
    "                id='yaxis-type',\n",
    "                options=[{'label': i, 'value': i} for i in ['Linear', 'Log']],\n",
    "                value='Linear',\n",
    "                inline = True\n",
    "            )\n",
    "        ], style={'width': '49%', 'float': 'right', 'display': 'inline-block'})\n",
    "    ]),\n",
    "\n",
    "    dcc.Graph(id = 'indicator-graphic')\n",
    "\n",
    "    \n",
    "],style = {'backgroundColor': '#111111'})\n",
    "# component_id or _property can be ommited \n",
    "# The variable of the funciton refers to the corresponding property of the id\n",
    "@app.callback( \n",
    "    Output(component_id='indicator-graphic', component_property='figure'), \n",
    "    Input('xaxis-column', 'value'),\n",
    "    Input('yaxis-column', 'value'),\n",
    "    Input('xaxis-type', 'value'),\n",
    "    Input('yaxis-type', 'value')\n",
    "    #, prevent_initial_call=True to prevent callback when refresh/startup\n",
    "    )\n",
    "def update_graph(xaxis_column_name, yaxis_column_name,\n",
    "                 xaxis_type, yaxis_type): # need to match the order of input\n",
    "    \n",
    "    dff = df.dropna(subset = [xaxis_column_name, yaxis_column_name])\n",
    "    \n",
    "    fig = px.scatter(x = dff[xaxis_column_name],\n",
    "                     y = dff[yaxis_column_name])\n",
    "    # px returns a plotyly.graph_objects.Figure \n",
    "\n",
    "    fig.update_xaxes(title=xaxis_column_name,\n",
    "                     type='linear' if xaxis_type == 'Linear' else 'log')\n",
    "\n",
    "    fig.update_yaxes(title=yaxis_column_name,\n",
    "                     type='linear' if yaxis_type == 'Linear' else 'log')\n",
    "    fig.update_layout(\n",
    "        plot_bgcolor = '#111111', # black plot background color\n",
    "        paper_bgcolor = '#34F24F' # green surronding color\n",
    "    )\n",
    "    \n",
    "    return fig"
   ]
  },
  {
   "cell_type": "code",
   "execution_count": 19,
   "metadata": {},
   "outputs": [
    {
     "data": {
      "text/html": [
       "\n",
       "        <iframe\n",
       "            width=\"100%\"\n",
       "            height=\"650\"\n",
       "            src=\"http://127.0.0.1:8051/\"\n",
       "            frameborder=\"0\"\n",
       "            allowfullscreen\n",
       "            \n",
       "        ></iframe>\n",
       "        "
      ],
      "text/plain": [
       "<IPython.lib.display.IFrame at 0x7f35cba54c40>"
      ]
     },
     "metadata": {},
     "output_type": "display_data"
    }
   ],
   "source": [
    "app.run_server(mode = 'inline', port = 8051)"
   ]
  }
 ],
 "metadata": {
  "interpreter": {
   "hash": "e7370f93d1d0cde622a1f8e1c04877d8463912d04d973331ad4851f04de6915a"
  },
  "kernelspec": {
   "display_name": "Python 3.10.4 64-bit",
   "language": "python",
   "name": "python3"
  },
  "language_info": {
   "codemirror_mode": {
    "name": "ipython",
    "version": 3
   },
   "file_extension": ".py",
   "mimetype": "text/x-python",
   "name": "python",
   "nbconvert_exporter": "python",
   "pygments_lexer": "ipython3",
   "version": "3.10.4"
  },
  "orig_nbformat": 4
 },
 "nbformat": 4,
 "nbformat_minor": 2
}
