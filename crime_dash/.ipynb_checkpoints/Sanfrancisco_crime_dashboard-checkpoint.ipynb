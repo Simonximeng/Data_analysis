{
 "cells": [
  {
   "cell_type": "markdown",
   "id": "49059859",
   "metadata": {},
   "source": [
    "## Visualization of San Fansisco Crime Dataset"
   ]
  },
  {
   "cell_type": "code",
   "execution_count": 11,
   "id": "2bf1cdd5",
   "metadata": {},
   "outputs": [],
   "source": [
    "import numpy as np\n",
    "import pandas as pd \n",
    "import folium\n",
    "# Folium is a python library wrapping the leaflet.js javascript library.\n",
    "# Folium builds interactive maps with several kind of background tiles\n"
   ]
  },
  {
   "cell_type": "code",
   "execution_count": 12,
   "id": "81c9879b",
   "metadata": {},
   "outputs": [
    {
     "data": {
      "text/html": [
       "<div>\n",
       "<style scoped>\n",
       "    .dataframe tbody tr th:only-of-type {\n",
       "        vertical-align: middle;\n",
       "    }\n",
       "\n",
       "    .dataframe tbody tr th {\n",
       "        vertical-align: top;\n",
       "    }\n",
       "\n",
       "    .dataframe thead th {\n",
       "        text-align: right;\n",
       "    }\n",
       "</style>\n",
       "<table border=\"1\" class=\"dataframe\">\n",
       "  <thead>\n",
       "    <tr style=\"text-align: right;\">\n",
       "      <th></th>\n",
       "      <th>IncidntNum</th>\n",
       "      <th>Category</th>\n",
       "      <th>Descript</th>\n",
       "      <th>DayOfWeek</th>\n",
       "      <th>Date</th>\n",
       "      <th>Time</th>\n",
       "      <th>PdDistrict</th>\n",
       "      <th>Resolution</th>\n",
       "      <th>Address</th>\n",
       "      <th>X</th>\n",
       "      <th>Y</th>\n",
       "      <th>Location</th>\n",
       "      <th>PdId</th>\n",
       "    </tr>\n",
       "  </thead>\n",
       "  <tbody>\n",
       "    <tr>\n",
       "      <th>0</th>\n",
       "      <td>120058272</td>\n",
       "      <td>WEAPON LAWS</td>\n",
       "      <td>POSS OF PROHIBITED WEAPON</td>\n",
       "      <td>Friday</td>\n",
       "      <td>01/29/2016 12:00:00 AM</td>\n",
       "      <td>11:00</td>\n",
       "      <td>SOUTHERN</td>\n",
       "      <td>ARREST, BOOKED</td>\n",
       "      <td>800 Block of BRYANT ST</td>\n",
       "      <td>-122.403405</td>\n",
       "      <td>37.775421</td>\n",
       "      <td>(37.775420706711, -122.403404791479)</td>\n",
       "      <td>12005827212120</td>\n",
       "    </tr>\n",
       "    <tr>\n",
       "      <th>1</th>\n",
       "      <td>120058272</td>\n",
       "      <td>WEAPON LAWS</td>\n",
       "      <td>FIREARM, LOADED, IN VEHICLE, POSSESSION OR USE</td>\n",
       "      <td>Friday</td>\n",
       "      <td>01/29/2016 12:00:00 AM</td>\n",
       "      <td>11:00</td>\n",
       "      <td>SOUTHERN</td>\n",
       "      <td>ARREST, BOOKED</td>\n",
       "      <td>800 Block of BRYANT ST</td>\n",
       "      <td>-122.403405</td>\n",
       "      <td>37.775421</td>\n",
       "      <td>(37.775420706711, -122.403404791479)</td>\n",
       "      <td>12005827212168</td>\n",
       "    </tr>\n",
       "    <tr>\n",
       "      <th>2</th>\n",
       "      <td>141059263</td>\n",
       "      <td>WARRANTS</td>\n",
       "      <td>WARRANT ARREST</td>\n",
       "      <td>Monday</td>\n",
       "      <td>04/25/2016 12:00:00 AM</td>\n",
       "      <td>14:59</td>\n",
       "      <td>BAYVIEW</td>\n",
       "      <td>ARREST, BOOKED</td>\n",
       "      <td>KEITH ST / SHAFTER AV</td>\n",
       "      <td>-122.388856</td>\n",
       "      <td>37.729981</td>\n",
       "      <td>(37.7299809672996, -122.388856204292)</td>\n",
       "      <td>14105926363010</td>\n",
       "    </tr>\n",
       "    <tr>\n",
       "      <th>3</th>\n",
       "      <td>160013662</td>\n",
       "      <td>NON-CRIMINAL</td>\n",
       "      <td>LOST PROPERTY</td>\n",
       "      <td>Tuesday</td>\n",
       "      <td>01/05/2016 12:00:00 AM</td>\n",
       "      <td>23:50</td>\n",
       "      <td>TENDERLOIN</td>\n",
       "      <td>NONE</td>\n",
       "      <td>JONES ST / OFARRELL ST</td>\n",
       "      <td>-122.412971</td>\n",
       "      <td>37.785788</td>\n",
       "      <td>(37.7857883766888, -122.412970537591)</td>\n",
       "      <td>16001366271000</td>\n",
       "    </tr>\n",
       "    <tr>\n",
       "      <th>4</th>\n",
       "      <td>160002740</td>\n",
       "      <td>NON-CRIMINAL</td>\n",
       "      <td>LOST PROPERTY</td>\n",
       "      <td>Friday</td>\n",
       "      <td>01/01/2016 12:00:00 AM</td>\n",
       "      <td>00:30</td>\n",
       "      <td>MISSION</td>\n",
       "      <td>NONE</td>\n",
       "      <td>16TH ST / MISSION ST</td>\n",
       "      <td>-122.419672</td>\n",
       "      <td>37.765050</td>\n",
       "      <td>(37.7650501214668, -122.419671780296)</td>\n",
       "      <td>16000274071000</td>\n",
       "    </tr>\n",
       "  </tbody>\n",
       "</table>\n",
       "</div>"
      ],
      "text/plain": [
       "   IncidntNum      Category                                        Descript  \\\n",
       "0   120058272   WEAPON LAWS                       POSS OF PROHIBITED WEAPON   \n",
       "1   120058272   WEAPON LAWS  FIREARM, LOADED, IN VEHICLE, POSSESSION OR USE   \n",
       "2   141059263      WARRANTS                                  WARRANT ARREST   \n",
       "3   160013662  NON-CRIMINAL                                   LOST PROPERTY   \n",
       "4   160002740  NON-CRIMINAL                                   LOST PROPERTY   \n",
       "\n",
       "  DayOfWeek                    Date   Time  PdDistrict      Resolution  \\\n",
       "0    Friday  01/29/2016 12:00:00 AM  11:00    SOUTHERN  ARREST, BOOKED   \n",
       "1    Friday  01/29/2016 12:00:00 AM  11:00    SOUTHERN  ARREST, BOOKED   \n",
       "2    Monday  04/25/2016 12:00:00 AM  14:59     BAYVIEW  ARREST, BOOKED   \n",
       "3   Tuesday  01/05/2016 12:00:00 AM  23:50  TENDERLOIN            NONE   \n",
       "4    Friday  01/01/2016 12:00:00 AM  00:30     MISSION            NONE   \n",
       "\n",
       "                  Address           X          Y  \\\n",
       "0  800 Block of BRYANT ST -122.403405  37.775421   \n",
       "1  800 Block of BRYANT ST -122.403405  37.775421   \n",
       "2   KEITH ST / SHAFTER AV -122.388856  37.729981   \n",
       "3  JONES ST / OFARRELL ST -122.412971  37.785788   \n",
       "4    16TH ST / MISSION ST -122.419672  37.765050   \n",
       "\n",
       "                                Location            PdId  \n",
       "0   (37.775420706711, -122.403404791479)  12005827212120  \n",
       "1   (37.775420706711, -122.403404791479)  12005827212168  \n",
       "2  (37.7299809672996, -122.388856204292)  14105926363010  \n",
       "3  (37.7857883766888, -122.412970537591)  16001366271000  \n",
       "4  (37.7650501214668, -122.419671780296)  16000274071000  "
      ]
     },
     "execution_count": 12,
     "metadata": {},
     "output_type": "execute_result"
    }
   ],
   "source": [
    "df = pd.read_csv('san.csv')\n",
    "df.head()"
   ]
  },
  {
   "cell_type": "code",
   "execution_count": 13,
   "id": "90c77501",
   "metadata": {},
   "outputs": [
    {
     "data": {
      "text/plain": [
       "(150500, 13)"
      ]
     },
     "execution_count": 13,
     "metadata": {},
     "output_type": "execute_result"
    }
   ],
   "source": [
    "df.shape"
   ]
  },
  {
   "cell_type": "code",
   "execution_count": 17,
   "id": "660daf90",
   "metadata": {},
   "outputs": [],
   "source": [
    "import ipywidgets as widgets # a slider widgets\n",
    "\n",
    "style = {'description_width': 'initial'}\n",
    "\n",
    "limit_case = widgets.IntSlider(\n",
    "    value=1000, # default number of rows when running\n",
    "    min=100, # min and max range value of the slider\n",
    "    max=5000,\n",
    "    step=1, # each value increment or decrement when slide \n",
    "    description='Max Number of Case:',\n",
    "    disabled=False,\n",
    "    style=style)"
   ]
  },
  {
   "cell_type": "code",
   "execution_count": 18,
   "id": "98284dc4",
   "metadata": {},
   "outputs": [],
   "source": [
    "def update_df_length(limit):\n",
    "    df = pd.read_csv('san.csv')\n",
    "    df = df.iloc[0:limit, :]\n",
    "    \n",
    "    print(\"Number of rows in the dataset that have been successfully loaded:\"+str(len(df)))\n"
   ]
  },
  {
   "cell_type": "code",
   "execution_count": 19,
   "id": "eed6c237",
   "metadata": {},
   "outputs": [
    {
     "data": {
      "application/vnd.jupyter.widget-view+json": {
       "model_id": "a56685f983414e78ae2c5eb17c436b07",
       "version_major": 2,
       "version_minor": 0
      },
      "text/plain": [
       "interactive(children=(IntSlider(value=1000, description='Max Number of Case:', max=5000, min=100, style=Slider…"
      ]
     },
     "metadata": {},
     "output_type": "display_data"
    }
   ],
   "source": [
    "widgets.interactive(update_df_length, limit=limit_case)"
   ]
  },
  {
   "cell_type": "code",
   "execution_count": 29,
   "id": "26a2516c",
   "metadata": {},
   "outputs": [
    {
     "data": {
      "application/vnd.jupyter.widget-view+json": {
       "model_id": "10d823b9057440d99e828ec405ff8c50",
       "version_major": 2,
       "version_minor": 0
      },
      "text/plain": [
       "SelectMultiple(description='District', index=(1, 4), layout=Layout(height='80px', width='50%'), options=('SOUT…"
      ]
     },
     "metadata": {},
     "output_type": "display_data"
    }
   ],
   "source": [
    "from ipywidgets import Layout \n",
    "\n",
    "df = pd.read_csv('san.csv')\n",
    "\n",
    "unique_district = df.PdDistrict.unique()\n",
    "\n",
    "# can pick more than one values of distinct\n",
    "district = widgets.SelectMultiple( \n",
    "    options = unique_district.tolist(),\n",
    "    value = ['BAYVIEW', 'NORTHERN'],\n",
    "    description='District',\n",
    "    disabled=False,\n",
    "    layout = Layout(width='50%', height='80px')\n",
    ")\n",
    "# can select multiple when holding control\n",
    "district"
   ]
  },
  {
   "cell_type": "code",
   "execution_count": 30,
   "id": "59833235",
   "metadata": {},
   "outputs": [
    {
     "data": {
      "application/vnd.jupyter.widget-view+json": {
       "model_id": "0db75e67879145c7876cd088f962eee0",
       "version_major": 2,
       "version_minor": 0
      },
      "text/plain": [
       "SelectMultiple(description='Criminal Case', index=(14, 3, 9), layout=Layout(display='flex', height='80px', wid…"
      ]
     },
     "metadata": {},
     "output_type": "display_data"
    }
   ],
   "source": [
    "# similarly, multiple-select widget for category of crime: df.Category\n",
    "\n",
    "unique_cat = df.Category.unique()\n",
    "\n",
    "# can pick more than one values of distinct\n",
    "category = widgets.SelectMultiple( \n",
    "    options = unique_cat.tolist(),\n",
    "    value = ['VANDALISM', 'ASSAULT', 'ROBBERY'],\n",
    "    description='Criminal Case',\n",
    "    disabled=False,\n",
    "    layout = Layout(width='50%', height='80px', display='flex')\n",
    ")\n",
    "# can select multiple when holding control\n",
    "category"
   ]
  },
  {
   "cell_type": "code",
   "execution_count": 33,
   "id": "24fef587",
   "metadata": {},
   "outputs": [],
   "source": [
    "import matplotlib.pyplot as plt\n",
    "from folium import plugins\n",
    "\n",
    "def update_map(district, category, limit):\n",
    "    \n",
    "    df = pd.read_csv('san.csv')\n",
    "    df = df.iloc[0:limit, :]\n",
    "    \n",
    "    latitude = 37.77\n",
    "    longitude = -122.42\n",
    "    \n",
    "    df_dist = df.loc[df['PdDistrict'].isin(np.array(district))]\n",
    "    df_category = df_dist.loc[df_dist['Category'].isin(np.array(category))]\n",
    "    \n",
    "    cat_unique = df_category['Category'].value_counts()\n",
    "    cat_unique = cat_unique.reset_index()\n",
    "    \n",
    "    dist_unique = df_category['PdDistrict'].value_counts()\n",
    "    dist_unique = dist_unique.reset_index()\n",
    "    \n",
    "    fig, (ax1, ax2) = plt.subplots(1, 2, figsize=(20,10))\n",
    "\n",
    "    # create map and display it\n",
    "    sanfran_map = folium.Map(location=[latitude, longitude], \n",
    "                             zoom_start=12)\n",
    "\n",
    "    \n",
    "    incidents = plugins.MarkerCluster().add_to(sanfran_map)\n",
    "\n",
    "# loop through the dataframe and add each data point to the mark cluster\n",
    "    for lat, lng, label, in zip(df_category.Y, \n",
    "                                df_category.X, \n",
    "                                df_category.Category):\n",
    "        folium.Marker(\n",
    "        location=[lat, lng],\n",
    "        icon=None,\n",
    "        popup=label,\n",
    "        ).add_to(incidents)\n",
    "# show map\n",
    "    display(sanfran_map)\n",
    "    \n",
    "    ax1.bar(cat_unique['index'], \n",
    "            cat_unique['Category'])\n",
    "    \n",
    "    ax1.set_title('Amount of Criminal Case Based on Category')\n",
    "    \n",
    "    ax2.bar(dist_unique['index'], \n",
    "            dist_unique['PdDistrict'])\n",
    "    \n",
    "    ax2.set_title('Amount of Criminal Case in Selected District')\n",
    "    \n",
    "    plt.show()"
   ]
  },
  {
   "cell_type": "code",
   "execution_count": 32,
   "id": "6c69e98d",
   "metadata": {},
   "outputs": [
    {
     "data": {
      "application/vnd.jupyter.widget-view+json": {
       "model_id": "1c232b4cfd8a43d5ba4058a6caabcffb",
       "version_major": 2,
       "version_minor": 0
      },
      "text/plain": [
       "interactive(children=(SelectMultiple(description='District', index=(1, 4), layout=Layout(height='80px', width=…"
      ]
     },
     "metadata": {},
     "output_type": "display_data"
    }
   ],
   "source": [
    "widgets.interactive(update_map, \n",
    "                    district = district, \n",
    "                    category = category, \n",
    "                    limit=limit_case)"
   ]
  },
  {
   "cell_type": "markdown",
   "id": "5b12e562",
   "metadata": {},
   "source": [
    "Can also make it a distinct dashboard with Voila where Voilà turns Jupyter notebooks into standalone web applications."
   ]
  }
 ],
 "metadata": {
  "kernelspec": {
   "display_name": "Python 3 (ipykernel)",
   "language": "python",
   "name": "python3"
  },
  "language_info": {
   "codemirror_mode": {
    "name": "ipython",
    "version": 3
   },
   "file_extension": ".py",
   "mimetype": "text/x-python",
   "name": "python",
   "nbconvert_exporter": "python",
   "pygments_lexer": "ipython3",
   "version": "3.10.2"
  }
 },
 "nbformat": 4,
 "nbformat_minor": 5
}
